{
 "cells": [
  {
   "cell_type": "markdown",
   "metadata": {},
   "source": [
    "## Logistic Regression: \n",
    "\n",
    "You are given a dataset named football.csv containing information about football players. Your task is to build a machine learning model to classify whether\n",
    "a player’s contribution type is more inclined towards being type 1 or 0, where 1 indicates players with contributions in the attacking half of the football field and 0 indicates players with contributions in the defending half of the field. The classification column is “contribution type”.\n",
    "\n",
    "1. Train a Logistic Regression model using the training data. Implement logistic regression\n",
    "from scratch. You’re NOT ALLOWED to use sklearn for this question.\n",
    "2. Make predictions on the test data using the trained model.\n",
    "3. Calculate the F1 score, accuracy score, and confusion matrix to evaluate the model’s performance."
   ]
  },
  {
   "cell_type": "markdown",
   "metadata": {},
   "source": []
  }
 ],
 "metadata": {
  "language_info": {
   "name": "python"
  },
  "orig_nbformat": 4
 },
 "nbformat": 4,
 "nbformat_minor": 2
}
