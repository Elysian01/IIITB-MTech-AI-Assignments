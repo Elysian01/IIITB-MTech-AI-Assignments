{
 "cells": [
  {
   "cell_type": "markdown",
   "metadata": {},
   "source": [
    "## Random Forest\n",
    "\n",
    "For this question also, you have to use the same football dataset. The aim is to use the Random Forest model to do classification and regression both.\n",
    "\n",
    "1. Classification: Your target column is ‘contribution type’. Process the data as you want, modify/drop any columns that you want, and play around with the hyperparameters.\n",
    "\n",
    "Try to understand and observe the difference in results. Try different losses (or quality criterion) – ‘gini’, ‘entropy’, ‘log loss’. After training the model, report test accuracy and f1 score.\n",
    "\n",
    "2. Regression: Your target column is ‘overall’. Again, you are free to process the dataset and encouraged to try different hyperparameters. Use MSE and MAE one by one to train the models, and report test MSE and MAE for both models.\n",
    "\n",
    "Note: You can use sklearn library to get Random Forest implementations."
   ]
  },
  {
   "cell_type": "markdown",
   "metadata": {},
   "source": []
  }
 ],
 "metadata": {
  "language_info": {
   "name": "python"
  },
  "orig_nbformat": 4
 },
 "nbformat": 4,
 "nbformat_minor": 2
}
