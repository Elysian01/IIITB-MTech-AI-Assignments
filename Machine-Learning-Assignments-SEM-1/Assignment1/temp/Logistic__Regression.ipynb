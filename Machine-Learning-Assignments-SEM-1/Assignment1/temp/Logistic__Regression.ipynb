{
 "cells": [
  {
   "cell_type": "code",
   "execution_count": 1,
   "metadata": {
    "executionInfo": {
     "elapsed": 451,
     "status": "ok",
     "timestamp": 1696500165374,
     "user": {
      "displayName": "Shubham Zanzad",
      "userId": "11475476216020561553"
     },
     "user_tz": -330
    },
    "id": "hS6OEoHGWm6H"
   },
   "outputs": [],
   "source": [
    "import pandas as pd\n",
    "import numpy as np"
   ]
  },
  {
   "cell_type": "code",
   "execution_count": 2,
   "metadata": {
    "executionInfo": {
     "elapsed": 395,
     "status": "ok",
     "timestamp": 1696500180813,
     "user": {
      "displayName": "Shubham Zanzad",
      "userId": "11475476216020561553"
     },
     "user_tz": -330
    },
    "id": "nfXEN69QZIrC"
   },
   "outputs": [],
   "source": [
    "df = pd.read_csv('/content/football.csv')"
   ]
  },
  {
   "cell_type": "code",
   "execution_count": 3,
   "metadata": {
    "colab": {
     "base_uri": "https://localhost:8080/",
     "height": 290
    },
    "executionInfo": {
     "elapsed": 12,
     "status": "ok",
     "timestamp": 1696500182305,
     "user": {
      "displayName": "Shubham Zanzad",
      "userId": "11475476216020561553"
     },
     "user_tz": -330
    },
    "id": "pZZU9qOKZItp",
    "outputId": "61e25195-ba87-4a79-ef66-0e91ed29b526"
   },
   "outputs": [
    {
     "data": {
      "text/html": [
       "\n",
       "  <div id=\"df-c177f816-4e5f-43a5-b4cc-9d88bcb4ae92\" class=\"colab-df-container\">\n",
       "    <div>\n",
       "<style scoped>\n",
       "    .dataframe tbody tr th:only-of-type {\n",
       "        vertical-align: middle;\n",
       "    }\n",
       "\n",
       "    .dataframe tbody tr th {\n",
       "        vertical-align: top;\n",
       "    }\n",
       "\n",
       "    .dataframe thead th {\n",
       "        text-align: right;\n",
       "    }\n",
       "</style>\n",
       "<table border=\"1\" class=\"dataframe\">\n",
       "  <thead>\n",
       "    <tr style=\"text-align: right;\">\n",
       "      <th></th>\n",
       "      <th>sofifa_id</th>\n",
       "      <th>short_name</th>\n",
       "      <th>overall</th>\n",
       "      <th>potential</th>\n",
       "      <th>value_eur</th>\n",
       "      <th>wage_eur</th>\n",
       "      <th>age</th>\n",
       "      <th>height_cm</th>\n",
       "      <th>weight_kg</th>\n",
       "      <th>club_team_id</th>\n",
       "      <th>...</th>\n",
       "      <th>defending_marking_awareness</th>\n",
       "      <th>defending_standing_tackle</th>\n",
       "      <th>defending_sliding_tackle</th>\n",
       "      <th>goalkeeping_diving</th>\n",
       "      <th>goalkeeping_handling</th>\n",
       "      <th>goalkeeping_kicking</th>\n",
       "      <th>goalkeeping_positioning</th>\n",
       "      <th>goalkeeping_reflexes</th>\n",
       "      <th>goalkeeping_speed</th>\n",
       "      <th>contribution_type</th>\n",
       "    </tr>\n",
       "  </thead>\n",
       "  <tbody>\n",
       "    <tr>\n",
       "      <th>0</th>\n",
       "      <td>158023</td>\n",
       "      <td>L. Messi</td>\n",
       "      <td>93</td>\n",
       "      <td>93</td>\n",
       "      <td>78000000.0</td>\n",
       "      <td>320000.0</td>\n",
       "      <td>34</td>\n",
       "      <td>170</td>\n",
       "      <td>72</td>\n",
       "      <td>73.0</td>\n",
       "      <td>...</td>\n",
       "      <td>20</td>\n",
       "      <td>35</td>\n",
       "      <td>24</td>\n",
       "      <td>6</td>\n",
       "      <td>11</td>\n",
       "      <td>15</td>\n",
       "      <td>14</td>\n",
       "      <td>8</td>\n",
       "      <td>NaN</td>\n",
       "      <td>1</td>\n",
       "    </tr>\n",
       "    <tr>\n",
       "      <th>1</th>\n",
       "      <td>188545</td>\n",
       "      <td>R. Lewandowski</td>\n",
       "      <td>92</td>\n",
       "      <td>92</td>\n",
       "      <td>119500000.0</td>\n",
       "      <td>270000.0</td>\n",
       "      <td>32</td>\n",
       "      <td>185</td>\n",
       "      <td>81</td>\n",
       "      <td>21.0</td>\n",
       "      <td>...</td>\n",
       "      <td>35</td>\n",
       "      <td>42</td>\n",
       "      <td>19</td>\n",
       "      <td>15</td>\n",
       "      <td>6</td>\n",
       "      <td>12</td>\n",
       "      <td>8</td>\n",
       "      <td>10</td>\n",
       "      <td>NaN</td>\n",
       "      <td>1</td>\n",
       "    </tr>\n",
       "    <tr>\n",
       "      <th>2</th>\n",
       "      <td>20801</td>\n",
       "      <td>Cristiano Ronaldo</td>\n",
       "      <td>91</td>\n",
       "      <td>91</td>\n",
       "      <td>45000000.0</td>\n",
       "      <td>270000.0</td>\n",
       "      <td>36</td>\n",
       "      <td>187</td>\n",
       "      <td>83</td>\n",
       "      <td>11.0</td>\n",
       "      <td>...</td>\n",
       "      <td>24</td>\n",
       "      <td>32</td>\n",
       "      <td>24</td>\n",
       "      <td>7</td>\n",
       "      <td>11</td>\n",
       "      <td>15</td>\n",
       "      <td>14</td>\n",
       "      <td>11</td>\n",
       "      <td>NaN</td>\n",
       "      <td>1</td>\n",
       "    </tr>\n",
       "    <tr>\n",
       "      <th>3</th>\n",
       "      <td>190871</td>\n",
       "      <td>Neymar Jr</td>\n",
       "      <td>91</td>\n",
       "      <td>91</td>\n",
       "      <td>129000000.0</td>\n",
       "      <td>270000.0</td>\n",
       "      <td>29</td>\n",
       "      <td>175</td>\n",
       "      <td>68</td>\n",
       "      <td>73.0</td>\n",
       "      <td>...</td>\n",
       "      <td>35</td>\n",
       "      <td>32</td>\n",
       "      <td>29</td>\n",
       "      <td>9</td>\n",
       "      <td>9</td>\n",
       "      <td>15</td>\n",
       "      <td>15</td>\n",
       "      <td>11</td>\n",
       "      <td>NaN</td>\n",
       "      <td>1</td>\n",
       "    </tr>\n",
       "    <tr>\n",
       "      <th>4</th>\n",
       "      <td>192985</td>\n",
       "      <td>K. De Bruyne</td>\n",
       "      <td>91</td>\n",
       "      <td>91</td>\n",
       "      <td>125500000.0</td>\n",
       "      <td>350000.0</td>\n",
       "      <td>30</td>\n",
       "      <td>181</td>\n",
       "      <td>70</td>\n",
       "      <td>10.0</td>\n",
       "      <td>...</td>\n",
       "      <td>68</td>\n",
       "      <td>65</td>\n",
       "      <td>53</td>\n",
       "      <td>15</td>\n",
       "      <td>13</td>\n",
       "      <td>5</td>\n",
       "      <td>10</td>\n",
       "      <td>13</td>\n",
       "      <td>NaN</td>\n",
       "      <td>1</td>\n",
       "    </tr>\n",
       "  </tbody>\n",
       "</table>\n",
       "<p>5 rows × 66 columns</p>\n",
       "</div>\n",
       "    <div class=\"colab-df-buttons\">\n",
       "\n",
       "  <div class=\"colab-df-container\">\n",
       "    <button class=\"colab-df-convert\" onclick=\"convertToInteractive('df-c177f816-4e5f-43a5-b4cc-9d88bcb4ae92')\"\n",
       "            title=\"Convert this dataframe to an interactive table.\"\n",
       "            style=\"display:none;\">\n",
       "\n",
       "  <svg xmlns=\"http://www.w3.org/2000/svg\" height=\"24px\" viewBox=\"0 -960 960 960\">\n",
       "    <path d=\"M120-120v-720h720v720H120Zm60-500h600v-160H180v160Zm220 220h160v-160H400v160Zm0 220h160v-160H400v160ZM180-400h160v-160H180v160Zm440 0h160v-160H620v160ZM180-180h160v-160H180v160Zm440 0h160v-160H620v160Z\"/>\n",
       "  </svg>\n",
       "    </button>\n",
       "\n",
       "  <style>\n",
       "    .colab-df-container {\n",
       "      display:flex;\n",
       "      gap: 12px;\n",
       "    }\n",
       "\n",
       "    .colab-df-convert {\n",
       "      background-color: #E8F0FE;\n",
       "      border: none;\n",
       "      border-radius: 50%;\n",
       "      cursor: pointer;\n",
       "      display: none;\n",
       "      fill: #1967D2;\n",
       "      height: 32px;\n",
       "      padding: 0 0 0 0;\n",
       "      width: 32px;\n",
       "    }\n",
       "\n",
       "    .colab-df-convert:hover {\n",
       "      background-color: #E2EBFA;\n",
       "      box-shadow: 0px 1px 2px rgba(60, 64, 67, 0.3), 0px 1px 3px 1px rgba(60, 64, 67, 0.15);\n",
       "      fill: #174EA6;\n",
       "    }\n",
       "\n",
       "    .colab-df-buttons div {\n",
       "      margin-bottom: 4px;\n",
       "    }\n",
       "\n",
       "    [theme=dark] .colab-df-convert {\n",
       "      background-color: #3B4455;\n",
       "      fill: #D2E3FC;\n",
       "    }\n",
       "\n",
       "    [theme=dark] .colab-df-convert:hover {\n",
       "      background-color: #434B5C;\n",
       "      box-shadow: 0px 1px 3px 1px rgba(0, 0, 0, 0.15);\n",
       "      filter: drop-shadow(0px 1px 2px rgba(0, 0, 0, 0.3));\n",
       "      fill: #FFFFFF;\n",
       "    }\n",
       "  </style>\n",
       "\n",
       "    <script>\n",
       "      const buttonEl =\n",
       "        document.querySelector('#df-c177f816-4e5f-43a5-b4cc-9d88bcb4ae92 button.colab-df-convert');\n",
       "      buttonEl.style.display =\n",
       "        google.colab.kernel.accessAllowed ? 'block' : 'none';\n",
       "\n",
       "      async function convertToInteractive(key) {\n",
       "        const element = document.querySelector('#df-c177f816-4e5f-43a5-b4cc-9d88bcb4ae92');\n",
       "        const dataTable =\n",
       "          await google.colab.kernel.invokeFunction('convertToInteractive',\n",
       "                                                    [key], {});\n",
       "        if (!dataTable) return;\n",
       "\n",
       "        const docLinkHtml = 'Like what you see? Visit the ' +\n",
       "          '<a target=\"_blank\" href=https://colab.research.google.com/notebooks/data_table.ipynb>data table notebook</a>'\n",
       "          + ' to learn more about interactive tables.';\n",
       "        element.innerHTML = '';\n",
       "        dataTable['output_type'] = 'display_data';\n",
       "        await google.colab.output.renderOutput(dataTable, element);\n",
       "        const docLink = document.createElement('div');\n",
       "        docLink.innerHTML = docLinkHtml;\n",
       "        element.appendChild(docLink);\n",
       "      }\n",
       "    </script>\n",
       "  </div>\n",
       "\n",
       "\n",
       "<div id=\"df-44e19ea2-f071-477b-8ad9-bd8164aa8a41\">\n",
       "  <button class=\"colab-df-quickchart\" onclick=\"quickchart('df-44e19ea2-f071-477b-8ad9-bd8164aa8a41')\"\n",
       "            title=\"Suggest charts.\"\n",
       "            style=\"display:none;\">\n",
       "\n",
       "<svg xmlns=\"http://www.w3.org/2000/svg\" height=\"24px\"viewBox=\"0 0 24 24\"\n",
       "     width=\"24px\">\n",
       "    <g>\n",
       "        <path d=\"M19 3H5c-1.1 0-2 .9-2 2v14c0 1.1.9 2 2 2h14c1.1 0 2-.9 2-2V5c0-1.1-.9-2-2-2zM9 17H7v-7h2v7zm4 0h-2V7h2v10zm4 0h-2v-4h2v4z\"/>\n",
       "    </g>\n",
       "</svg>\n",
       "  </button>\n",
       "\n",
       "<style>\n",
       "  .colab-df-quickchart {\n",
       "      --bg-color: #E8F0FE;\n",
       "      --fill-color: #1967D2;\n",
       "      --hover-bg-color: #E2EBFA;\n",
       "      --hover-fill-color: #174EA6;\n",
       "      --disabled-fill-color: #AAA;\n",
       "      --disabled-bg-color: #DDD;\n",
       "  }\n",
       "\n",
       "  [theme=dark] .colab-df-quickchart {\n",
       "      --bg-color: #3B4455;\n",
       "      --fill-color: #D2E3FC;\n",
       "      --hover-bg-color: #434B5C;\n",
       "      --hover-fill-color: #FFFFFF;\n",
       "      --disabled-bg-color: #3B4455;\n",
       "      --disabled-fill-color: #666;\n",
       "  }\n",
       "\n",
       "  .colab-df-quickchart {\n",
       "    background-color: var(--bg-color);\n",
       "    border: none;\n",
       "    border-radius: 50%;\n",
       "    cursor: pointer;\n",
       "    display: none;\n",
       "    fill: var(--fill-color);\n",
       "    height: 32px;\n",
       "    padding: 0;\n",
       "    width: 32px;\n",
       "  }\n",
       "\n",
       "  .colab-df-quickchart:hover {\n",
       "    background-color: var(--hover-bg-color);\n",
       "    box-shadow: 0 1px 2px rgba(60, 64, 67, 0.3), 0 1px 3px 1px rgba(60, 64, 67, 0.15);\n",
       "    fill: var(--button-hover-fill-color);\n",
       "  }\n",
       "\n",
       "  .colab-df-quickchart-complete:disabled,\n",
       "  .colab-df-quickchart-complete:disabled:hover {\n",
       "    background-color: var(--disabled-bg-color);\n",
       "    fill: var(--disabled-fill-color);\n",
       "    box-shadow: none;\n",
       "  }\n",
       "\n",
       "  .colab-df-spinner {\n",
       "    border: 2px solid var(--fill-color);\n",
       "    border-color: transparent;\n",
       "    border-bottom-color: var(--fill-color);\n",
       "    animation:\n",
       "      spin 1s steps(1) infinite;\n",
       "  }\n",
       "\n",
       "  @keyframes spin {\n",
       "    0% {\n",
       "      border-color: transparent;\n",
       "      border-bottom-color: var(--fill-color);\n",
       "      border-left-color: var(--fill-color);\n",
       "    }\n",
       "    20% {\n",
       "      border-color: transparent;\n",
       "      border-left-color: var(--fill-color);\n",
       "      border-top-color: var(--fill-color);\n",
       "    }\n",
       "    30% {\n",
       "      border-color: transparent;\n",
       "      border-left-color: var(--fill-color);\n",
       "      border-top-color: var(--fill-color);\n",
       "      border-right-color: var(--fill-color);\n",
       "    }\n",
       "    40% {\n",
       "      border-color: transparent;\n",
       "      border-right-color: var(--fill-color);\n",
       "      border-top-color: var(--fill-color);\n",
       "    }\n",
       "    60% {\n",
       "      border-color: transparent;\n",
       "      border-right-color: var(--fill-color);\n",
       "    }\n",
       "    80% {\n",
       "      border-color: transparent;\n",
       "      border-right-color: var(--fill-color);\n",
       "      border-bottom-color: var(--fill-color);\n",
       "    }\n",
       "    90% {\n",
       "      border-color: transparent;\n",
       "      border-bottom-color: var(--fill-color);\n",
       "    }\n",
       "  }\n",
       "</style>\n",
       "\n",
       "  <script>\n",
       "    async function quickchart(key) {\n",
       "      const quickchartButtonEl =\n",
       "        document.querySelector('#' + key + ' button');\n",
       "      quickchartButtonEl.disabled = true;  // To prevent multiple clicks.\n",
       "      quickchartButtonEl.classList.add('colab-df-spinner');\n",
       "      try {\n",
       "        const charts = await google.colab.kernel.invokeFunction(\n",
       "            'suggestCharts', [key], {});\n",
       "      } catch (error) {\n",
       "        console.error('Error during call to suggestCharts:', error);\n",
       "      }\n",
       "      quickchartButtonEl.classList.remove('colab-df-spinner');\n",
       "      quickchartButtonEl.classList.add('colab-df-quickchart-complete');\n",
       "    }\n",
       "    (() => {\n",
       "      let quickchartButtonEl =\n",
       "        document.querySelector('#df-44e19ea2-f071-477b-8ad9-bd8164aa8a41 button');\n",
       "      quickchartButtonEl.style.display =\n",
       "        google.colab.kernel.accessAllowed ? 'block' : 'none';\n",
       "    })();\n",
       "  </script>\n",
       "</div>\n",
       "    </div>\n",
       "  </div>\n"
      ],
      "text/plain": [
       "   sofifa_id         short_name  overall  potential    value_eur  wage_eur  \\\n",
       "0     158023           L. Messi       93         93   78000000.0  320000.0   \n",
       "1     188545     R. Lewandowski       92         92  119500000.0  270000.0   \n",
       "2      20801  Cristiano Ronaldo       91         91   45000000.0  270000.0   \n",
       "3     190871          Neymar Jr       91         91  129000000.0  270000.0   \n",
       "4     192985       K. De Bruyne       91         91  125500000.0  350000.0   \n",
       "\n",
       "   age  height_cm  weight_kg  club_team_id  ... defending_marking_awareness  \\\n",
       "0   34        170         72          73.0  ...                          20   \n",
       "1   32        185         81          21.0  ...                          35   \n",
       "2   36        187         83          11.0  ...                          24   \n",
       "3   29        175         68          73.0  ...                          35   \n",
       "4   30        181         70          10.0  ...                          68   \n",
       "\n",
       "  defending_standing_tackle  defending_sliding_tackle  goalkeeping_diving  \\\n",
       "0                        35                        24                   6   \n",
       "1                        42                        19                  15   \n",
       "2                        32                        24                   7   \n",
       "3                        32                        29                   9   \n",
       "4                        65                        53                  15   \n",
       "\n",
       "   goalkeeping_handling goalkeeping_kicking  goalkeeping_positioning  \\\n",
       "0                    11                  15                       14   \n",
       "1                     6                  12                        8   \n",
       "2                    11                  15                       14   \n",
       "3                     9                  15                       15   \n",
       "4                    13                   5                       10   \n",
       "\n",
       "   goalkeeping_reflexes  goalkeeping_speed contribution_type  \n",
       "0                     8                NaN                 1  \n",
       "1                    10                NaN                 1  \n",
       "2                    11                NaN                 1  \n",
       "3                    11                NaN                 1  \n",
       "4                    13                NaN                 1  \n",
       "\n",
       "[5 rows x 66 columns]"
      ]
     },
     "execution_count": 3,
     "metadata": {},
     "output_type": "execute_result"
    }
   ],
   "source": [
    "df.head()"
   ]
  },
  {
   "cell_type": "code",
   "execution_count": 4,
   "metadata": {
    "colab": {
     "base_uri": "https://localhost:8080/"
    },
    "executionInfo": {
     "elapsed": 418,
     "status": "ok",
     "timestamp": 1696500183395,
     "user": {
      "displayName": "Shubham Zanzad",
      "userId": "11475476216020561553"
     },
     "user_tz": -330
    },
    "id": "Tiibuw4jZIwU",
    "outputId": "4bd21eb1-9d9a-45e1-d76f-791f4c78c06d"
   },
   "outputs": [
    {
     "name": "stdout",
     "output_type": "stream",
     "text": [
      "No. of players who are in attacking position (contribution_type = 1): 3546\n"
     ]
    }
   ],
   "source": [
    "print(\"No. of players who are in attacking position (contribution_type = 1): \" + str(len(df[df['contribution_type'] == 1])))"
   ]
  },
  {
   "cell_type": "code",
   "execution_count": 5,
   "metadata": {
    "colab": {
     "base_uri": "https://localhost:8080/"
    },
    "executionInfo": {
     "elapsed": 5,
     "status": "ok",
     "timestamp": 1696500185850,
     "user": {
      "displayName": "Shubham Zanzad",
      "userId": "11475476216020561553"
     },
     "user_tz": -330
    },
    "id": "yid2EgBfZIzL",
    "outputId": "81946351-b5a8-4935-defe-807285348f47"
   },
   "outputs": [
    {
     "name": "stdout",
     "output_type": "stream",
     "text": [
      "No. of players who are in defending position (contribution_type = 0): 4226\n"
     ]
    }
   ],
   "source": [
    "print(\"No. of players who are in defending position (contribution_type = 0): \" + str(len(df[df['contribution_type'] == 0])))"
   ]
  },
  {
   "cell_type": "code",
   "execution_count": 6,
   "metadata": {
    "colab": {
     "base_uri": "https://localhost:8080/"
    },
    "executionInfo": {
     "elapsed": 5,
     "status": "ok",
     "timestamp": 1696500186248,
     "user": {
      "displayName": "Shubham Zanzad",
      "userId": "11475476216020561553"
     },
     "user_tz": -330
    },
    "id": "e_uj-skZahhN",
    "outputId": "4f4f239b-c2a5-4bb5-d6e3-7d89c569fc47"
   },
   "outputs": [
    {
     "data": {
      "text/plain": [
       "sofifa_id                     0\n",
       "short_name                    0\n",
       "overall                       0\n",
       "potential                     0\n",
       "value_eur                    66\n",
       "                           ... \n",
       "goalkeeping_kicking           0\n",
       "goalkeeping_positioning       0\n",
       "goalkeeping_reflexes          0\n",
       "goalkeeping_speed          7063\n",
       "contribution_type             0\n",
       "Length: 66, dtype: int64"
      ]
     },
     "execution_count": 6,
     "metadata": {},
     "output_type": "execute_result"
    }
   ],
   "source": [
    "df.isna().sum()"
   ]
  },
  {
   "cell_type": "code",
   "execution_count": 7,
   "metadata": {
    "executionInfo": {
     "elapsed": 4,
     "status": "ok",
     "timestamp": 1696500190251,
     "user": {
      "displayName": "Shubham Zanzad",
      "userId": "11475476216020561553"
     },
     "user_tz": -330
    },
    "id": "H0s2_-6Uahju"
   },
   "outputs": [],
   "source": [
    "df.drop(axis = \"columns\", labels = [\"goalkeeping_speed\", \"short_name\", \"value_eur\", \"wage_eur\",\n",
    "                                          \"age\", \"height_cm\", \"weight_kg\", \"club_team_id\", \"club_name\",\n",
    "                                          \"league_name\", \"league_level\", \"club_jersey_number\", \"nation_jersey_number\",\n",
    "                                          \"preferred_foot\", \"weak_foot\", \"body_type\", \"release_clause_eur\", \"player_tags\",\n",
    "                                          \"player_traits\", \"work_rate\"], inplace = True)"
   ]
  },
  {
   "cell_type": "code",
   "execution_count": 8,
   "metadata": {
    "colab": {
     "base_uri": "https://localhost:8080/"
    },
    "executionInfo": {
     "elapsed": 414,
     "status": "ok",
     "timestamp": 1696500193325,
     "user": {
      "displayName": "Shubham Zanzad",
      "userId": "11475476216020561553"
     },
     "user_tz": -330
    },
    "id": "mKWmgWnuahmc",
    "outputId": "54ed4b75-f72d-4109-a9a6-070412bb1766"
   },
   "outputs": [
    {
     "data": {
      "text/plain": [
       "sofifa_id                        0\n",
       "overall                          0\n",
       "potential                        0\n",
       "skill_moves                      0\n",
       "international_reputation         0\n",
       "pace                           709\n",
       "shooting                       709\n",
       "passing                        709\n",
       "dribbling                      709\n",
       "defending                      709\n",
       "physic                         709\n",
       "attacking_crossing               0\n",
       "attacking_finishing              0\n",
       "attacking_heading_accuracy       0\n",
       "attacking_short_passing          0\n",
       "attacking_volleys                0\n",
       "skill_dribbling                  0\n",
       "skill_curve                      0\n",
       "skill_fk_accuracy                0\n",
       "skill_long_passing               0\n",
       "skill_ball_control               0\n",
       "movement_acceleration            0\n",
       "movement_sprint_speed            0\n",
       "movement_agility                 0\n",
       "movement_reactions               0\n",
       "movement_balance                 0\n",
       "power_shot_power                 0\n",
       "power_jumping                    0\n",
       "power_stamina                    0\n",
       "power_strength                   0\n",
       "power_long_shots                 0\n",
       "mentality_aggression             0\n",
       "mentality_interceptions          0\n",
       "mentality_positioning            0\n",
       "mentality_vision                 0\n",
       "mentality_penalties              0\n",
       "mentality_composure              0\n",
       "defending_marking_awareness      0\n",
       "defending_standing_tackle        0\n",
       "defending_sliding_tackle         0\n",
       "goalkeeping_diving               0\n",
       "goalkeeping_handling             0\n",
       "goalkeeping_kicking              0\n",
       "goalkeeping_positioning          0\n",
       "goalkeeping_reflexes             0\n",
       "contribution_type                0\n",
       "dtype: int64"
      ]
     },
     "execution_count": 8,
     "metadata": {},
     "output_type": "execute_result"
    }
   ],
   "source": [
    "df.isna().sum()"
   ]
  },
  {
   "cell_type": "markdown",
   "metadata": {
    "id": "mjJRlHgIa4ze"
   },
   "source": [
    "Now as we can see there are 6 columns with same no. of null rows. This is strange chances can be these unfilled rows can be of goalkeepers(Just a intution) because columns like shooting, dribbling and defending are NaN. So I'll fill these unfilled rows with median as I have did in the first question(Linear Regression). Also if these rows belong to goalkeepers then they also have play a crucial role in our model."
   ]
  },
  {
   "cell_type": "code",
   "execution_count": 9,
   "metadata": {
    "executionInfo": {
     "elapsed": 5,
     "status": "ok",
     "timestamp": 1696500195070,
     "user": {
      "displayName": "Shubham Zanzad",
      "userId": "11475476216020561553"
     },
     "user_tz": -330
    },
    "id": "f2sSoGUFahpe"
   },
   "outputs": [],
   "source": [
    "df[\"pace\"].fillna(df[\"pace\"].median(), inplace = True)"
   ]
  },
  {
   "cell_type": "code",
   "execution_count": 10,
   "metadata": {
    "executionInfo": {
     "elapsed": 4,
     "status": "ok",
     "timestamp": 1696500195577,
     "user": {
      "displayName": "Shubham Zanzad",
      "userId": "11475476216020561553"
     },
     "user_tz": -330
    },
    "id": "Umc5SUR-ahrn"
   },
   "outputs": [],
   "source": [
    "df[\"shooting\"].fillna(df[\"shooting\"].median(), inplace = True)"
   ]
  },
  {
   "cell_type": "code",
   "execution_count": 11,
   "metadata": {
    "executionInfo": {
     "elapsed": 719,
     "status": "ok",
     "timestamp": 1696500197829,
     "user": {
      "displayName": "Shubham Zanzad",
      "userId": "11475476216020561553"
     },
     "user_tz": -330
    },
    "id": "UsgVzK1fahuR"
   },
   "outputs": [],
   "source": [
    "df[\"passing\"].fillna(df[\"passing\"].median(), inplace = True)"
   ]
  },
  {
   "cell_type": "code",
   "execution_count": 12,
   "metadata": {
    "executionInfo": {
     "elapsed": 4,
     "status": "ok",
     "timestamp": 1696500199163,
     "user": {
      "displayName": "Shubham Zanzad",
      "userId": "11475476216020561553"
     },
     "user_tz": -330
    },
    "id": "Fbq8IdKCahxB"
   },
   "outputs": [],
   "source": [
    "df[\"dribbling\"].fillna(df[\"dribbling\"].median(), inplace = True)"
   ]
  },
  {
   "cell_type": "code",
   "execution_count": 13,
   "metadata": {
    "executionInfo": {
     "elapsed": 5,
     "status": "ok",
     "timestamp": 1696500199786,
     "user": {
      "displayName": "Shubham Zanzad",
      "userId": "11475476216020561553"
     },
     "user_tz": -330
    },
    "id": "SkhHFhJ2ahzs"
   },
   "outputs": [],
   "source": [
    "df[\"defending\"].fillna(df[\"defending\"].median(), inplace = True)"
   ]
  },
  {
   "cell_type": "code",
   "execution_count": 14,
   "metadata": {
    "executionInfo": {
     "elapsed": 4,
     "status": "ok",
     "timestamp": 1696500200564,
     "user": {
      "displayName": "Shubham Zanzad",
      "userId": "11475476216020561553"
     },
     "user_tz": -330
    },
    "id": "-lJ2xGSqah2Y"
   },
   "outputs": [],
   "source": [
    "df[\"physic\"].fillna(df[\"physic\"].median(), inplace = True)"
   ]
  },
  {
   "cell_type": "code",
   "execution_count": 15,
   "metadata": {
    "colab": {
     "base_uri": "https://localhost:8080/"
    },
    "executionInfo": {
     "elapsed": 10,
     "status": "ok",
     "timestamp": 1696500201406,
     "user": {
      "displayName": "Shubham Zanzad",
      "userId": "11475476216020561553"
     },
     "user_tz": -330
    },
    "id": "YIYY2joZah5V",
    "outputId": "b930b77e-73f1-4a31-9c9a-20fb1711dd2e"
   },
   "outputs": [
    {
     "data": {
      "text/plain": [
       "sofifa_id                      0\n",
       "overall                        0\n",
       "potential                      0\n",
       "skill_moves                    0\n",
       "international_reputation       0\n",
       "pace                           0\n",
       "shooting                       0\n",
       "passing                        0\n",
       "dribbling                      0\n",
       "defending                      0\n",
       "physic                         0\n",
       "attacking_crossing             0\n",
       "attacking_finishing            0\n",
       "attacking_heading_accuracy     0\n",
       "attacking_short_passing        0\n",
       "attacking_volleys              0\n",
       "skill_dribbling                0\n",
       "skill_curve                    0\n",
       "skill_fk_accuracy              0\n",
       "skill_long_passing             0\n",
       "skill_ball_control             0\n",
       "movement_acceleration          0\n",
       "movement_sprint_speed          0\n",
       "movement_agility               0\n",
       "movement_reactions             0\n",
       "movement_balance               0\n",
       "power_shot_power               0\n",
       "power_jumping                  0\n",
       "power_stamina                  0\n",
       "power_strength                 0\n",
       "power_long_shots               0\n",
       "mentality_aggression           0\n",
       "mentality_interceptions        0\n",
       "mentality_positioning          0\n",
       "mentality_vision               0\n",
       "mentality_penalties            0\n",
       "mentality_composure            0\n",
       "defending_marking_awareness    0\n",
       "defending_standing_tackle      0\n",
       "defending_sliding_tackle       0\n",
       "goalkeeping_diving             0\n",
       "goalkeeping_handling           0\n",
       "goalkeeping_kicking            0\n",
       "goalkeeping_positioning        0\n",
       "goalkeeping_reflexes           0\n",
       "contribution_type              0\n",
       "dtype: int64"
      ]
     },
     "execution_count": 15,
     "metadata": {},
     "output_type": "execute_result"
    }
   ],
   "source": [
    "df.isna().sum()"
   ]
  },
  {
   "cell_type": "markdown",
   "metadata": {
    "id": "_dEasB8AcXKt"
   },
   "source": [
    "Still there are some columns that needs to be dropped as they won't necessarily determine the contribution_type of the player.\n"
   ]
  },
  {
   "cell_type": "code",
   "execution_count": 16,
   "metadata": {
    "executionInfo": {
     "elapsed": 630,
     "status": "ok",
     "timestamp": 1696500205940,
     "user": {
      "displayName": "Shubham Zanzad",
      "userId": "11475476216020561553"
     },
     "user_tz": -330
    },
    "id": "AYjR7JRPcr33"
   },
   "outputs": [],
   "source": [
    "df.drop(axis = \"columns\", labels = [\"sofifa_id\", \"overall\", \"potential\", \"skill_moves\", \"international_reputation\"], inplace = True)"
   ]
  },
  {
   "cell_type": "code",
   "execution_count": 18,
   "metadata": {
    "executionInfo": {
     "elapsed": 516,
     "status": "ok",
     "timestamp": 1696500224455,
     "user": {
      "displayName": "Shubham Zanzad",
      "userId": "11475476216020561553"
     },
     "user_tz": -330
    },
    "id": "_O55X-GyZI1l"
   },
   "outputs": [],
   "source": [
    "features=list(df.columns[:-1])"
   ]
  },
  {
   "cell_type": "code",
   "execution_count": 19,
   "metadata": {
    "executionInfo": {
     "elapsed": 375,
     "status": "ok",
     "timestamp": 1696500229025,
     "user": {
      "displayName": "Shubham Zanzad",
      "userId": "11475476216020561553"
     },
     "user_tz": -330
    },
    "id": "yTChb24FZI4W"
   },
   "outputs": [],
   "source": [
    "x = df[features]\n",
    "y = df['contribution_type']"
   ]
  },
  {
   "cell_type": "markdown",
   "metadata": {
    "id": "YPlxdOjjdvsi"
   },
   "source": [
    "Defining Sigmoid function"
   ]
  },
  {
   "cell_type": "code",
   "execution_count": 63,
   "metadata": {
    "executionInfo": {
     "elapsed": 653,
     "status": "ok",
     "timestamp": 1696500795007,
     "user": {
      "displayName": "Shubham Zanzad",
      "userId": "11475476216020561553"
     },
     "user_tz": -330
    },
    "id": "erOqeFH1dn49"
   },
   "outputs": [],
   "source": [
    "from sklearn.model_selection import train_test_split\n",
    "X_train, X_test, y_train, y_test = train_test_split(\n",
    "         x, y, test_size=0.2, random_state=2)"
   ]
  },
  {
   "cell_type": "code",
   "execution_count": 31,
   "metadata": {
    "executionInfo": {
     "elapsed": 5,
     "status": "ok",
     "timestamp": 1696500331282,
     "user": {
      "displayName": "Shubham Zanzad",
      "userId": "11475476216020561553"
     },
     "user_tz": -330
    },
    "id": "F-39fQNMdnza"
   },
   "outputs": [],
   "source": [
    "def sigmoid(x):\n",
    "    return 1 / (1 + np.exp(-x))"
   ]
  },
  {
   "cell_type": "code",
   "execution_count": 32,
   "metadata": {
    "executionInfo": {
     "elapsed": 806,
     "status": "ok",
     "timestamp": 1696500332997,
     "user": {
      "displayName": "Shubham Zanzad",
      "userId": "11475476216020561553"
     },
     "user_tz": -330
    },
    "id": "YDRucW_Idn2a"
   },
   "outputs": [],
   "source": [
    "class LogisticRegression:\n",
    "    def __init__(self, lr=0.001, n_iters=1000):\n",
    "        self.lr = lr\n",
    "        self.n_iters = n_iters\n",
    "        self.weights = None\n",
    "        self.bias = None\n",
    "\n",
    "    def fit(self, X, y):\n",
    "        n_samples, n_features = X.shape\n",
    "        self.weights = np.zeros(n_features)\n",
    "        self.bias = 0\n",
    "\n",
    "        for _ in range(self.n_iters):\n",
    "            linear_pred = np.dot(X, self.weights) + self.bias\n",
    "            predictions = sigmoid(linear_pred)\n",
    "\n",
    "            dw = (1/n_samples) * np.dot(X.T, (predictions - y))\n",
    "            db = (1/n_samples) * np.sum(predictions-y)\n",
    "\n",
    "            self.weights = self.weights - self.lr*dw\n",
    "            self.bias = self.bias - self.lr*db\n",
    "\n",
    "\n",
    "    def predict(self, X):\n",
    "        linear_pred = np.dot(X, self.weights) + self.bias\n",
    "        y_train = sigmoid(linear_pred)\n",
    "        class_pred = [0 if y<=0.5 else 1 for y in y_train]\n",
    "        return class_pred"
   ]
  },
  {
   "cell_type": "code",
   "execution_count": 42,
   "metadata": {
    "executionInfo": {
     "elapsed": 411,
     "status": "ok",
     "timestamp": 1696500687674,
     "user": {
      "displayName": "Shubham Zanzad",
      "userId": "11475476216020561553"
     },
     "user_tz": -330
    },
    "id": "HUU9TeHEm0cf"
   },
   "outputs": [],
   "source": [
    "def accuracy(y_pred, y_test):\n",
    "    return np.sum(y_pred==y_test)/len(y_test)"
   ]
  },
  {
   "cell_type": "code",
   "execution_count": 64,
   "metadata": {
    "executionInfo": {
     "elapsed": 1771,
     "status": "ok",
     "timestamp": 1696500799624,
     "user": {
      "displayName": "Shubham Zanzad",
      "userId": "11475476216020561553"
     },
     "user_tz": -330
    },
    "id": "WXTVGJ8qdn7m"
   },
   "outputs": [],
   "source": [
    "lr = LogisticRegression(lr = 0.01)\n",
    "lr.fit(X_train, y_train)"
   ]
  },
  {
   "cell_type": "code",
   "execution_count": 65,
   "metadata": {
    "executionInfo": {
     "elapsed": 4,
     "status": "ok",
     "timestamp": 1696500799625,
     "user": {
      "displayName": "Shubham Zanzad",
      "userId": "11475476216020561553"
     },
     "user_tz": -330
    },
    "id": "yjuv4DdgUdva"
   },
   "outputs": [],
   "source": [
    "y_pred = lr.predict(X_test)"
   ]
  },
  {
   "cell_type": "code",
   "execution_count": 66,
   "metadata": {
    "executionInfo": {
     "elapsed": 4,
     "status": "ok",
     "timestamp": 1696500800022,
     "user": {
      "displayName": "Shubham Zanzad",
      "userId": "11475476216020561553"
     },
     "user_tz": -330
    },
    "id": "z-bAz-xKm5i-"
   },
   "outputs": [],
   "source": [
    "acc = accuracy(y_pred, y_test)"
   ]
  },
  {
   "cell_type": "code",
   "execution_count": 67,
   "metadata": {
    "colab": {
     "base_uri": "https://localhost:8080/"
    },
    "executionInfo": {
     "elapsed": 4,
     "status": "ok",
     "timestamp": 1696500800727,
     "user": {
      "displayName": "Shubham Zanzad",
      "userId": "11475476216020561553"
     },
     "user_tz": -330
    },
    "id": "3_9eaQNwm5l3",
    "outputId": "8244a457-7e8d-4d14-c4c9-63a35494b48e"
   },
   "outputs": [
    {
     "name": "stdout",
     "output_type": "stream",
     "text": [
      "0.822508038585209\n"
     ]
    }
   ],
   "source": [
    "print(acc)"
   ]
  },
  {
   "cell_type": "code",
   "execution_count": 69,
   "metadata": {
    "colab": {
     "base_uri": "https://localhost:8080/",
     "height": 487
    },
    "executionInfo": {
     "elapsed": 725,
     "status": "ok",
     "timestamp": 1696500846607,
     "user": {
      "displayName": "Shubham Zanzad",
      "userId": "11475476216020561553"
     },
     "user_tz": -330
    },
    "id": "rpj_PUkEfbP_",
    "outputId": "9b35414f-9916-4272-a3df-edfc0625fc61"
   },
   "outputs": [
    {
     "data": {
      "image/png": "[encoded data removed]",
      "text/plain": [
       "<Figure size 640x480 with 1 Axes>"
      ]
     },
     "metadata": {},
     "output_type": "display_data"
    }
   ],
   "source": [
    "def cost_1(z):\n",
    "    return - np.log(sigmoid(z))\n",
    "\n",
    "def cost_0(z):\n",
    "    return - np.log(1 - sigmoid(z))\n",
    "\n",
    "z = np.arange(-10, 10, 0.1)\n",
    "phi_z = sigmoid(z)\n",
    "\n",
    "c1 = [cost_1(x) for x in z]\n",
    "plt.plot(phi_z, c1, label='J(w) if y=1')\n",
    "\n",
    "c0 = [cost_0(x) for x in z]\n",
    "plt.plot(phi_z, c0, linestyle='--', label='J(w) if y=0')\n",
    "\n",
    "plt.ylim(0.0, 5.1)\n",
    "plt.xlim([0, 1])\n",
    "plt.xlabel('$\\phi$(z)')\n",
    "plt.ylabel('J(w)')\n",
    "plt.legend(loc='best')\n",
    "plt.tight_layout()\n",
    "plt.show()"
   ]
  },
  {
   "cell_type": "code",
   "execution_count": 72,
   "metadata": {
    "colab": {
     "base_uri": "https://localhost:8080/",
     "height": 454
    },
    "executionInfo": {
     "elapsed": 532,
     "status": "ok",
     "timestamp": 1696501184039,
     "user": {
      "displayName": "Shubham Zanzad",
      "userId": "11475476216020561553"
     },
     "user_tz": -330
    },
    "id": "eJLvHCddfGjo",
    "outputId": "57a079c6-3633-4874-e2f6-4d9ff59914c0"
   },
   "outputs": [
    {
     "name": "stdout",
     "output_type": "stream",
     "text": [
      "[[596 244]\n",
      " [ 32 683]]\n"
     ]
    },
    {
     "data": {
      "image/png": "[encoded data removed]",
      "text/plain": [
       "<Figure size 480x480 with 2 Axes>"
      ]
     },
     "metadata": {},
     "output_type": "display_data"
    }
   ],
   "source": [
    "confusion_matrix = confusion_matrix(y_test, y_pred)\n",
    "print(confusion_matrix)\n",
    "plt.matshow(confusion_matrix)\n",
    "plt.title('Confusion matrix')\n",
    "plt.colorbar()\n",
    "plt.ylabel('True label')\n",
    "plt.xlabel('Predicted label')\n",
    "plt.show()"
   ]
  },
  {
   "cell_type": "code",
   "execution_count": 78,
   "metadata": {
    "colab": {
     "base_uri": "https://localhost:8080/"
    },
    "executionInfo": {
     "elapsed": 6,
     "status": "ok",
     "timestamp": 1696501565263,
     "user": {
      "displayName": "Shubham Zanzad",
      "userId": "11475476216020561553"
     },
     "user_tz": -330
    },
    "id": "7olOSEu5X2qG",
    "outputId": "456b8257-1d4d-4fe4-d0aa-da0f36afaa2d"
   },
   "outputs": [
    {
     "name": "stdout",
     "output_type": "stream",
     "text": [
      "0.8319123020706456\n"
     ]
    }
   ],
   "source": [
    "from sklearn.metrics import f1_score\n",
    "f1 = f1_score(y_test, y_pred)\n",
    "\n",
    "print(f1)"
   ]
  }
 ],
 "metadata": {
  "colab": {
   "authorship_tag": "ABX9TyO3BqDR9ksOlmBmFXRFxil9",
   "provenance": []
  },
  "kernelspec": {
   "display_name": "Python 3",
   "language": "python",
   "name": "python3"
  },
  "language_info": {
   "codemirror_mode": {
    "name": "ipython",
    "version": 3
   },
   "file_extension": ".py",
   "mimetype": "text/x-python",
   "name": "python",
   "nbconvert_exporter": "python",
   "pygments_lexer": "ipython3",
   "version": "3.8.8"
  }
 },
 "nbformat": 4,
 "nbformat_minor": 1
}
