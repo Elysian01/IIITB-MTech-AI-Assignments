{
 "cells": [
  {
   "cell_type": "markdown",
   "metadata": {},
   "source": [
    "## K-Means \n",
    "\n",
    "Clustering of Football Clubs: You are given a dataset containing football\n",
    "player information. The objective is to cluster different football clubs based on various at￾tributes.\n",
    "\n",
    "1. Your initial step should be extracting the club information from the player dataset. It will involve computing the “average player” of each club. One way is to group the dataset by “club name id” and calculate the mean values for all relevant features. You are encouraged to explore different ideas.\n",
    "\n",
    "2. Now, use K-Means to cluster the football clubs. You can determine the criteria for clustering by considering various features. For example - First try clustering using all 3 features, after that try again using only features representing player stats or financial attributes.\n",
    "\n",
    "3. To find the optimal number of clusters, K, you can use the elbow method."
   ]
  },
  {
   "cell_type": "markdown",
   "metadata": {},
   "source": []
  }
 ],
 "metadata": {
  "language_info": {
   "name": "python"
  },
  "orig_nbformat": 4
 },
 "nbformat": 4,
 "nbformat_minor": 2
}
